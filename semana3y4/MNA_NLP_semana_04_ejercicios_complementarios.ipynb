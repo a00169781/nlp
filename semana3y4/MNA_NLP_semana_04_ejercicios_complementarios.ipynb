{
  "cells": [
    {
      "cell_type": "markdown",
      "metadata": {
        "id": "QjJeSftN02Th"
      },
      "source": [
        "#**Maestría en Inteligencia Artificial Aplicada (MNA)**\n",
        "##**Procesamiento de Lenguaje Natural (NLP)**\n",
        "###Prof. Luis Eduardo Falcón Morales\n",
        "###**Semana 4 - Ejercicios Complementarios**\n",
        "### Matriz Documento-Término y Tf-idf.\n",
        "\n",
        "###**NOTA: Estos ejercicios son simplemente para que repases los conceptos de esta semana.**\n",
        "###**No es una tarea o actividad que debas entregar.**"
      ]
    },
    {
      "cell_type": "markdown",
      "metadata": {
        "id": "bDkdMJpSEqyT"
      },
      "source": [
        "Comentamos que los diccionarios son una parte importante que permiten asociar a cada token su freuencia de aparición en los documentos de texto.\n",
        "\n",
        "Sin embargo, esto no es suficiente para medir la importancia y sobre todo, para asociar algún significado al token con base a los demás tokens que se utilizan en una frase o documento.\n",
        "\n",
        "Para ello, existen la matriz llamada documento-término y la matriz tf-idf.\n",
        "\n",
        "La matriz documento-término (abreviada DTM pos sus siglas en inglés, Documen-Term-Matrix) es una matriz donde cada renglón representa un documento o enunciado y cada columna son los términos o tokens.\n",
        "\n",
        "A partir de dicha matriz se puede obtener a su vez la llamada matriz término-frecuencia y frecuencia de documento inversa. En general se le llama por sus siglas en inglés tf-idf, term-frequency-inverse-document-frequency. \n",
        "\n",
        "La matriz tf-idf trata de obtener una representación de los tokens y los documentos, donde pondera la aparición de los tokens como importantes cuando aparece con frecuencia; pero no demasiado, porque si aparece demasiado castiga a dicho token disminuyendo su peso. Es decir, es algo análogo al concepto de los stopwords, donde un token muestra su importancia cuando aparece frecuentemente, pero no demasiado frecuente porque entonces se hace trivial su aparición.\n",
        "\n",
        "Veamos estos conceptos con un ejercicio."
      ]
    },
    {
      "cell_type": "markdown",
      "metadata": {
        "id": "uBEFNGuV7369"
      },
      "source": [
        "Retomemos el ejercicio de la semana pasada.\n",
        "\n",
        "Recordemos que estamos suponiendo que tenemos la siguiente lista de comentarios en un problema de clasificación, donde cada uno está etiquetado como comentario positivo con un 1, o como comentario negativo con un 0."
      ]
    },
    {
      "cell_type": "code",
      "execution_count": 19,
      "metadata": {
        "id": "IwLeUqGZE7ii"
      },
      "outputs": [],
      "source": [
        "import re"
      ]
    },
    {
      "cell_type": "code",
      "execution_count": 22,
      "metadata": {
        "id": "AVTO4V9s7Fek"
      },
      "outputs": [],
      "source": [
        "docs = [['Muy bien hecho lo hecho.', 1],\n",
        "        ['¡Excelente trabajo muchacho!', 1],\n",
        "        ['Sigue como hasta ahora muchacho.', 1],\n",
        "        ['Lo hiciste muy bien.', 1],\n",
        "        ['¡¡Excelente resultado!!', 1],\n",
        "        ['¡¡¡Pésimo trabajo muchacho!!!', 0],\n",
        "        ['Que mal desempeño.', 0],\n",
        "        ['Muy mal hecho muchacho.', 0],\n",
        "        ['¡Que trabajo tan pobre!', 0],\n",
        "        ['No está bien, nada bien, muchacho.', 0]]"
      ]
    },
    {
      "cell_type": "markdown",
      "metadata": {
        "id": "htyrLDkSZ_rD"
      },
      "source": [
        "Apliquemos el proceso de limpieza y tokenización usual:"
      ]
    },
    {
      "cell_type": "code",
      "execution_count": 21,
      "metadata": {
        "id": "6tkgQ4m7E-_5"
      },
      "outputs": [],
      "source": [
        "Xclean = []  \n",
        "mis_stopwords = ['a', 'lo', 'que', 'está', 'hasta', 'el', 'la']\n",
        "\n",
        "for doc in docs:\n",
        "  words = re.sub(r'[^a-zA-ZáéíóúüñÁÉÍÓÚÜÑ]', ' ', doc[0])   \n",
        "  words = re.sub(r'\\s{2,}', ' ', words.strip())      \n",
        "  words = words.lower().split()\n",
        "  words = [ w for w in words if w not in mis_stopwords]\n",
        "  Xclean.append(words)\n",
        "\n",
        "\n",
        "Xx = []  \n",
        "for x in Xclean:\n",
        "  Xx.append(' '.join(x))\n",
        "\n",
        "\n",
        "y = [t for _,t in docs]\n",
        "\n",
        "\n",
        "\n",
        "# Xclean : lista de listas: documentos tokenizados y procesados.\n",
        "# Xx : lista de strings: cada documento es un string.\n",
        "# y : etiquetas de cada documento."
      ]
    },
    {
      "cell_type": "code",
      "execution_count": 30,
      "metadata": {
        "colab": {
          "base_uri": "https://localhost:8080/"
        },
        "id": "aMVB1siThMZP",
        "outputId": "30f8edd9-4413-486f-c5c8-36e7be6553c6"
      },
      "outputs": [
        {
          "name": "stdout",
          "output_type": "stream",
          "text": [
            "[['muy', 'bien', 'hecho', 'hecho'], ['excelente', 'trabajo', 'muchacho'], ['sigue', 'como', 'ahora', 'muchacho'], ['hiciste', 'muy', 'bien'], ['excelente', 'resultado'], ['pésimo', 'trabajo', 'muchacho'], ['mal', 'desempeño'], ['muy', 'mal', 'hecho', 'muchacho'], ['trabajo', 'tan', 'pobre'], ['no', 'bien', 'nada', 'bien', 'muchacho']]\n",
            "['muy bien hecho hecho', 'excelente trabajo muchacho', 'sigue como ahora muchacho', 'hiciste muy bien', 'excelente resultado', 'pésimo trabajo muchacho', 'mal desempeño', 'muy mal hecho muchacho', 'trabajo tan pobre', 'no bien nada bien muchacho']\n",
            "[1, 1, 1, 1, 1, 0, 0, 0, 0, 0]\n"
          ]
        }
      ],
      "source": [
        "print(Xclean)\n",
        "print(Xx)\n",
        "print(y)"
      ]
    },
    {
      "cell_type": "code",
      "execution_count": 24,
      "metadata": {
        "id": "NaoxpdL4Gl1W"
      },
      "outputs": [],
      "source": [
        "import pandas as pd"
      ]
    },
    {
      "cell_type": "code",
      "execution_count": 28,
      "metadata": {
        "colab": {
          "base_uri": "https://localhost:8080/"
        },
        "id": "mFHLLYskGKCG",
        "outputId": "665a8332-3ecc-49d7-a4fc-a8986c654271"
      },
      "outputs": [
        {
          "name": "stdout",
          "output_type": "stream",
          "text": [
            "18\n",
            "['ahora', 'bien', 'como', 'desempeño', 'excelente', 'hecho', 'hiciste', 'mal', 'muchacho', 'muy', 'nada', 'no', 'pobre', 'pésimo', 'resultado', 'sigue', 'tan', 'trabajo']\n"
          ]
        }
      ],
      "source": [
        "# Generamos nuestro vocabulario:\n",
        "\n",
        "vocab = []\n",
        "for x in Xclean:\n",
        "  vocab.extend(x)    \n",
        "\n",
        "vocab = list(set(vocab))\n",
        "vocab.sort()  \n",
        "\n",
        "print(len(vocab))\n",
        "print(vocab)"
      ]
    },
    {
      "cell_type": "markdown",
      "metadata": {
        "id": "eG9Gyz8kkZn0"
      },
      "source": [
        "Así, con 18 tokens se deberá procesar y analizar los documentos."
      ]
    },
    {
      "cell_type": "markdown",
      "metadata": {
        "id": "bkdiOw9Li9fM"
      },
      "source": [
        "##**Matriz Documento-Término: Document-Term-Matrix : DTM**"
      ]
    },
    {
      "cell_type": "markdown",
      "metadata": {
        "id": "T5wQY-__klMT"
      },
      "source": [
        "###Comentamos que existe una gran variedad de librerías para obtener las diferentes representaciones matriciales de los documentos de texto.\n",
        "\n",
        "###En particular, haciendo uso de CountVectorizer() de sklearn, podemos obtener la matriz DTM. \n",
        "\n",
        "###Si generaste tu vocabulario puedes usarlo para generar las matrices, de lo contrario puedes dejar que el propio método lo genere. Sin embargo, conviene trabajarlo uno personalmente, sobre todo por lo realizado con regex.\n",
        "\n",
        "Veamos este caso sencillo:"
      ]
    },
    {
      "cell_type": "code",
      "execution_count": 29,
      "metadata": {
        "id": "lWTlxJt5k6_m"
      },
      "outputs": [],
      "source": [
        "from sklearn.feature_extraction.text import CountVectorizer"
      ]
    },
    {
      "cell_type": "code",
      "execution_count": 8,
      "metadata": {
        "colab": {
          "base_uri": "https://localhost:8080/"
        },
        "id": "47CxGR58Tjeg",
        "outputId": "fed48b9c-a04a-48ad-85aa-76fe9c821757"
      },
      "outputs": [
        {
          "name": "stdout",
          "output_type": "stream",
          "text": [
            "matriz DTM:\n",
            "[[0 1 0 0 0 2 0 0 0 1 0 0 0 0 0 0 0 0]\n",
            " [0 0 0 0 1 0 0 0 1 0 0 0 0 0 0 0 0 1]\n",
            " [1 0 1 0 0 0 0 0 1 0 0 0 0 0 0 1 0 0]\n",
            " [0 1 0 0 0 0 1 0 0 1 0 0 0 0 0 0 0 0]\n",
            " [0 0 0 0 1 0 0 0 0 0 0 0 0 0 1 0 0 0]\n",
            " [0 0 0 0 0 0 0 0 1 0 0 0 0 1 0 0 0 1]\n",
            " [0 0 0 1 0 0 0 1 0 0 0 0 0 0 0 0 0 0]\n",
            " [0 0 0 0 0 1 0 1 1 1 0 0 0 0 0 0 0 0]\n",
            " [0 0 0 0 0 0 0 0 0 0 0 0 1 0 0 0 1 1]\n",
            " [0 2 0 0 0 0 0 0 1 0 1 1 0 0 0 0 0 0]]\n"
          ]
        }
      ],
      "source": [
        "vectorizer = CountVectorizer(vocabulary= vocab)  \n",
        "\n",
        "DTM = vectorizer.fit_transform(Xx)\n",
        "\n",
        "print('matriz DTM:')\n",
        "print(DTM.toarray())"
      ]
    },
    {
      "cell_type": "markdown",
      "metadata": {
        "id": "dXTlnpPdwpN8"
      },
      "source": [
        "###Podemos asociar el nombre de cada columna/token del vocabulario para mayor claridad, por ejemplo, nuevamente para el primer comentario:"
      ]
    },
    {
      "cell_type": "code",
      "execution_count": 9,
      "metadata": {
        "colab": {
          "base_uri": "https://localhost:8080/"
        },
        "id": "gXVEZlZJFpqP",
        "outputId": "6e8b8cab-4222-42f7-a361-c3e025781ef7"
      },
      "outputs": [
        {
          "name": "stdout",
          "output_type": "stream",
          "text": [
            "   ahora  bien  como  desempeño  excelente  hecho  hiciste  mal  muchacho  \\\n",
            "0      0     1     0          0          0      2        0    0         0   \n",
            "\n",
            "   muy  nada  no  pobre  pésimo  resultado  sigue  tan  trabajo  \n",
            "0    1     0   0      0       0          0      0    0        0  \n"
          ]
        }
      ],
      "source": [
        "count_tokens = vectorizer.get_feature_names_out()\n",
        "df_countvect = pd.DataFrame(data = DTM.toarray(),  columns = count_tokens)  \n",
        "print(df_countvect.iloc[0:1,0:]) "
      ]
    },
    {
      "cell_type": "markdown",
      "metadata": {
        "id": "uP24pUnIloxk"
      },
      "source": [
        "###La dimensión de esta document-term-matrix, DTM, es $(renglones\\times columnas)=(Total De Comentarios \\times Total De Tokens)$. Es decir, $10\\times 18$ en nuestro ejemplo.\n",
        "\n",
        "###Por ejemplo, el primer comentario es 'muy bien hecho hecho' y los índices de los tokens 'muy', 'bien' y 'hecho' son 9, 1 y 5. Y como 'hecho' aparece 2 veces en el primer comentario su vector asociado es como se muestra en el primer renglón de la matriz DTM.\n",
        "\n",
        "###Por otro lado, obervamos que la matriz DTM tiene una gran cantidad de ceros. En general así sucede, porque cada comentario hace uso de una cantidad mínima de palabras del vocabulario. Este tipo de matrices son llamadas dispersas (sparse matrix).\n",
        "\n",
        "###De manera predeterminada CountVectorizer() nos regresa una matriz dispersa. En este ejemplo hicimos uso del método \"toarray()\" para mostrar la matriz en su formato estándar. Sin embargo, esto no debes hacerlo en general, ya que son matrices muy muy grandes y tratar de visualizarlas de la manera estándar puede hacer uso de toda la memoria RAM.\n",
        "\n",
        "###En particular, el formato predeterminado del tipo de matriz dispersa es la CSR (Compressed-Sparse-Row, por sus siglas en inglés).\n",
        "\n",
        "###Lo podemos verificar:"
      ]
    },
    {
      "cell_type": "code",
      "execution_count": 10,
      "metadata": {
        "colab": {
          "base_uri": "https://localhost:8080/"
        },
        "id": "QiYekNzeuArS",
        "outputId": "4f6e02bf-cee0-4569-ddd0-c3257c880ef5"
      },
      "outputs": [
        {
          "data": {
            "text/plain": [
              "<10x18 sparse matrix of type '<class 'numpy.int64'>'\n",
              "\twith 31 stored elements in Compressed Sparse Row format>"
            ]
          },
          "execution_count": 10,
          "metadata": {},
          "output_type": "execute_result"
        }
      ],
      "source": [
        "DTM"
      ]
    },
    {
      "cell_type": "markdown",
      "metadata": {
        "id": "eV4iyZpmvEuq"
      },
      "source": [
        "Tenemos 31 elementos no cero, de un total de 180 entradas de la matriz.\n",
        "\n",
        "Es decir:"
      ]
    },
    {
      "cell_type": "code",
      "execution_count": 11,
      "metadata": {
        "colab": {
          "base_uri": "https://localhost:8080/"
        },
        "id": "pI9ALS0sui2O",
        "outputId": "6c33b186-6292-4f6a-c4f5-ed642a38259b"
      },
      "outputs": [
        {
          "data": {
            "text/plain": [
              "0.17222222222222222"
            ]
          },
          "execution_count": 11,
          "metadata": {},
          "output_type": "execute_result"
        }
      ],
      "source": [
        "DTM.count_nonzero() / (DTM.shape[0] * DTM.shape[1])"
      ]
    },
    {
      "cell_type": "markdown",
      "metadata": {
        "id": "r7DuQEvXv2fI"
      },
      "source": [
        "Es decir, en este pequeño ejemplo el 17% de los registros son no cero y el 83% son entradas de valor cero. Así, diremos que la matriz DTM tiene una dsipersidad (sparsity en inglés) del 83%. \n",
        "\n",
        "En la práctica, es usual que la dispersidad de las matrices DTM esté muy por arriba del 95%. Por ello la conveniencia de utilizar este tipo de formatos dispersos."
      ]
    },
    {
      "cell_type": "markdown",
      "metadata": {
        "id": "jDuqgrpGq_MC"
      },
      "source": [
        "##**Matriz Tf-idf**"
      ]
    },
    {
      "cell_type": "markdown",
      "metadata": {
        "id": "cBvr6XhgrMW4"
      },
      "source": [
        "Como comentamos en las diapositivas de la teoría de esta semana, la matriz Tf-idf pondera cada token por frecuencia de aparición, pero si aparece \"demasiadas\" veces, se le penaliza disminuyendo su peso."
      ]
    },
    {
      "cell_type": "code",
      "execution_count": 32,
      "metadata": {
        "id": "MsKYiMydFpi3"
      },
      "outputs": [],
      "source": [
        "from sklearn.feature_extraction.text import TfidfVectorizer\n",
        "\n",
        "tfidfvectorizer = TfidfVectorizer(vocabulary=vocab, norm=None)\n",
        "DTM_train_tfidf = tfidfvectorizer.fit_transform(Xx)   "
      ]
    },
    {
      "cell_type": "code",
      "execution_count": 31,
      "metadata": {
        "colab": {
          "base_uri": "https://localhost:8080/"
        },
        "id": "i1esgipqFpag",
        "outputId": "762faf04-6854-4468-fbbe-0eb82d795b2c"
      },
      "outputs": [
        {
          "name": "stdout",
          "output_type": "stream",
          "text": [
            "      ahora      bien      como  desempeño  excelente     hecho  hiciste  mal  \\\n",
            "0  0.000000  2.011601  0.000000        0.0   0.000000  4.598566      0.0  0.0   \n",
            "1  0.000000  0.000000  0.000000        0.0   2.299283  0.000000      0.0  0.0   \n",
            "2  2.704748  0.000000  2.704748        0.0   0.000000  0.000000      0.0  0.0   \n",
            "\n",
            "   muchacho       muy  nada   no  pobre  pésimo  resultado     sigue  tan  \\\n",
            "0  0.000000  2.011601   0.0  0.0    0.0     0.0        0.0  0.000000  0.0   \n",
            "1  1.606136  0.000000   0.0  0.0    0.0     0.0        0.0  0.000000  0.0   \n",
            "2  1.606136  0.000000   0.0  0.0    0.0     0.0        0.0  2.704748  0.0   \n",
            "\n",
            "    trabajo  \n",
            "0  0.000000  \n",
            "1  2.011601  \n",
            "2  0.000000  \n"
          ]
        }
      ],
      "source": [
        "tfidf_tokens = tfidfvectorizer.get_feature_names_out()\n",
        "df_tfidfvect = pd.DataFrame(data = DTM_train_tfidf.toarray(),  columns = tfidf_tokens)  \n",
        "print(df_tfidfvect.iloc[0:3,0:]) "
      ]
    },
    {
      "cell_type": "markdown",
      "metadata": {
        "id": "wU2BQbbWxTIe"
      },
      "source": [
        "Para este primer comentario vemos que la palabra \"hecho\" es la considerada que da mayor información con el mayor valor. Y su importancia en este comentario se justifica por aparecer dos veces en este. A los tokens \"bien\" y \"muy\" los poderó de manera igual, que en este caso ambos tokens aparecen una sola vez.\n",
        "\n",
        "En la preentación de este semana definimos de manera detallada las fórmulas para calcular el valor de $tf\\times idf$.\n",
        "\n",
        "Sin embargo, existen muchas variantes en la manera en que se definen estos términos, en particular la $idf$. En general, las variaciones llegan a ser diversas, pero todas nos llevan en general a resultados muy equivalentes cuando usamos esta información con modelos de aprendizaje de máquinas.\n",
        "\n",
        "Se se revisa la documentación de TfidfVectorizer() vemos la manera en que calcula dichos valores.\n",
        "\n",
        "Puedes revisar la documentación en las siguientes dos ligas:\n",
        "\n",
        "https://scikit-learn.org/stable/modules/generated/sklearn.feature_extraction.text.TfidfTransformer.html#sklearn.feature_extraction.text.TfidfTransformer\n",
        "\n",
        "https://scikit-learn.org/stable/modules/feature_extraction.html#text-feature-extraction\n",
        "\n"
      ]
    },
    {
      "cell_type": "markdown",
      "metadata": {
        "id": "rv0nTCZKKMCF"
      },
      "source": [
        "En particular, la fórmula que utiliza TfidfVectorizer() con el argumento \"norm=None\" que usamos arriba, es como sigue. Calculando el valor para el primer comentario y el token \"hecho\".\n",
        "\n",
        "$tf\\times idf = tf\\times ln(\\frac{D+1}{n_t+1})=2\\times \\{ln(\\frac{10+1}{2+1})+1\\}=4.598566$.\n",
        "\n",
        "Que es el resultado que se muestra en la salida que mostramos más arriba.\n"
      ]
    },
    {
      "cell_type": "markdown",
      "metadata": {
        "id": "udZxspGLMhF7"
      },
      "source": [
        "Lo importante es que estos valores de las matrices DTM y DTM_tfidf obtenidas con un conjunto de entrenamiento, pueden utilizarse para entrenar un modelo y después validarlo con los conjuntos de validación y de prueba."
      ]
    },
    {
      "cell_type": "markdown",
      "metadata": {
        "id": "MbJ9UbC9NUN1"
      },
      "source": [
        "A manera de ejemplo, supongamos que deseamos aplicar estos modelos con regresión logística."
      ]
    },
    {
      "cell_type": "code",
      "execution_count": 33,
      "metadata": {
        "id": "sjNL4lpXNeSu"
      },
      "outputs": [],
      "source": [
        "from sklearn.linear_model import LogisticRegression"
      ]
    },
    {
      "cell_type": "code",
      "execution_count": 34,
      "metadata": {
        "colab": {
          "base_uri": "https://localhost:8080/",
          "height": 74
        },
        "id": "15prjvmpNqSM",
        "outputId": "d43d38ce-76d5-41d0-b949-826b4fd17971"
      },
      "outputs": [
        {
          "data": {
            "text/html": [
              "<style>#sk-container-id-2 {\n",
              "  /* Definition of color scheme common for light and dark mode */\n",
              "  --sklearn-color-text: black;\n",
              "  --sklearn-color-line: gray;\n",
              "  /* Definition of color scheme for unfitted estimators */\n",
              "  --sklearn-color-unfitted-level-0: #fff5e6;\n",
              "  --sklearn-color-unfitted-level-1: #f6e4d2;\n",
              "  --sklearn-color-unfitted-level-2: #ffe0b3;\n",
              "  --sklearn-color-unfitted-level-3: chocolate;\n",
              "  /* Definition of color scheme for fitted estimators */\n",
              "  --sklearn-color-fitted-level-0: #f0f8ff;\n",
              "  --sklearn-color-fitted-level-1: #d4ebff;\n",
              "  --sklearn-color-fitted-level-2: #b3dbfd;\n",
              "  --sklearn-color-fitted-level-3: cornflowerblue;\n",
              "\n",
              "  /* Specific color for light theme */\n",
              "  --sklearn-color-text-on-default-background: var(--sg-text-color, var(--theme-code-foreground, var(--jp-content-font-color1, black)));\n",
              "  --sklearn-color-background: var(--sg-background-color, var(--theme-background, var(--jp-layout-color0, white)));\n",
              "  --sklearn-color-border-box: var(--sg-text-color, var(--theme-code-foreground, var(--jp-content-font-color1, black)));\n",
              "  --sklearn-color-icon: #696969;\n",
              "\n",
              "  @media (prefers-color-scheme: dark) {\n",
              "    /* Redefinition of color scheme for dark theme */\n",
              "    --sklearn-color-text-on-default-background: var(--sg-text-color, var(--theme-code-foreground, var(--jp-content-font-color1, white)));\n",
              "    --sklearn-color-background: var(--sg-background-color, var(--theme-background, var(--jp-layout-color0, #111)));\n",
              "    --sklearn-color-border-box: var(--sg-text-color, var(--theme-code-foreground, var(--jp-content-font-color1, white)));\n",
              "    --sklearn-color-icon: #878787;\n",
              "  }\n",
              "}\n",
              "\n",
              "#sk-container-id-2 {\n",
              "  color: var(--sklearn-color-text);\n",
              "}\n",
              "\n",
              "#sk-container-id-2 pre {\n",
              "  padding: 0;\n",
              "}\n",
              "\n",
              "#sk-container-id-2 input.sk-hidden--visually {\n",
              "  border: 0;\n",
              "  clip: rect(1px 1px 1px 1px);\n",
              "  clip: rect(1px, 1px, 1px, 1px);\n",
              "  height: 1px;\n",
              "  margin: -1px;\n",
              "  overflow: hidden;\n",
              "  padding: 0;\n",
              "  position: absolute;\n",
              "  width: 1px;\n",
              "}\n",
              "\n",
              "#sk-container-id-2 div.sk-dashed-wrapped {\n",
              "  border: 1px dashed var(--sklearn-color-line);\n",
              "  margin: 0 0.4em 0.5em 0.4em;\n",
              "  box-sizing: border-box;\n",
              "  padding-bottom: 0.4em;\n",
              "  background-color: var(--sklearn-color-background);\n",
              "}\n",
              "\n",
              "#sk-container-id-2 div.sk-container {\n",
              "  /* jupyter's `normalize.less` sets `[hidden] { display: none; }`\n",
              "     but bootstrap.min.css set `[hidden] { display: none !important; }`\n",
              "     so we also need the `!important` here to be able to override the\n",
              "     default hidden behavior on the sphinx rendered scikit-learn.org.\n",
              "     See: https://github.com/scikit-learn/scikit-learn/issues/21755 */\n",
              "  display: inline-block !important;\n",
              "  position: relative;\n",
              "}\n",
              "\n",
              "#sk-container-id-2 div.sk-text-repr-fallback {\n",
              "  display: none;\n",
              "}\n",
              "\n",
              "div.sk-parallel-item,\n",
              "div.sk-serial,\n",
              "div.sk-item {\n",
              "  /* draw centered vertical line to link estimators */\n",
              "  background-image: linear-gradient(var(--sklearn-color-text-on-default-background), var(--sklearn-color-text-on-default-background));\n",
              "  background-size: 2px 100%;\n",
              "  background-repeat: no-repeat;\n",
              "  background-position: center center;\n",
              "}\n",
              "\n",
              "/* Parallel-specific style estimator block */\n",
              "\n",
              "#sk-container-id-2 div.sk-parallel-item::after {\n",
              "  content: \"\";\n",
              "  width: 100%;\n",
              "  border-bottom: 2px solid var(--sklearn-color-text-on-default-background);\n",
              "  flex-grow: 1;\n",
              "}\n",
              "\n",
              "#sk-container-id-2 div.sk-parallel {\n",
              "  display: flex;\n",
              "  align-items: stretch;\n",
              "  justify-content: center;\n",
              "  background-color: var(--sklearn-color-background);\n",
              "  position: relative;\n",
              "}\n",
              "\n",
              "#sk-container-id-2 div.sk-parallel-item {\n",
              "  display: flex;\n",
              "  flex-direction: column;\n",
              "}\n",
              "\n",
              "#sk-container-id-2 div.sk-parallel-item:first-child::after {\n",
              "  align-self: flex-end;\n",
              "  width: 50%;\n",
              "}\n",
              "\n",
              "#sk-container-id-2 div.sk-parallel-item:last-child::after {\n",
              "  align-self: flex-start;\n",
              "  width: 50%;\n",
              "}\n",
              "\n",
              "#sk-container-id-2 div.sk-parallel-item:only-child::after {\n",
              "  width: 0;\n",
              "}\n",
              "\n",
              "/* Serial-specific style estimator block */\n",
              "\n",
              "#sk-container-id-2 div.sk-serial {\n",
              "  display: flex;\n",
              "  flex-direction: column;\n",
              "  align-items: center;\n",
              "  background-color: var(--sklearn-color-background);\n",
              "  padding-right: 1em;\n",
              "  padding-left: 1em;\n",
              "}\n",
              "\n",
              "\n",
              "/* Toggleable style: style used for estimator/Pipeline/ColumnTransformer box that is\n",
              "clickable and can be expanded/collapsed.\n",
              "- Pipeline and ColumnTransformer use this feature and define the default style\n",
              "- Estimators will overwrite some part of the style using the `sk-estimator` class\n",
              "*/\n",
              "\n",
              "/* Pipeline and ColumnTransformer style (default) */\n",
              "\n",
              "#sk-container-id-2 div.sk-toggleable {\n",
              "  /* Default theme specific background. It is overwritten whether we have a\n",
              "  specific estimator or a Pipeline/ColumnTransformer */\n",
              "  background-color: var(--sklearn-color-background);\n",
              "}\n",
              "\n",
              "/* Toggleable label */\n",
              "#sk-container-id-2 label.sk-toggleable__label {\n",
              "  cursor: pointer;\n",
              "  display: block;\n",
              "  width: 100%;\n",
              "  margin-bottom: 0;\n",
              "  padding: 0.5em;\n",
              "  box-sizing: border-box;\n",
              "  text-align: center;\n",
              "}\n",
              "\n",
              "#sk-container-id-2 label.sk-toggleable__label-arrow:before {\n",
              "  /* Arrow on the left of the label */\n",
              "  content: \"▸\";\n",
              "  float: left;\n",
              "  margin-right: 0.25em;\n",
              "  color: var(--sklearn-color-icon);\n",
              "}\n",
              "\n",
              "#sk-container-id-2 label.sk-toggleable__label-arrow:hover:before {\n",
              "  color: var(--sklearn-color-text);\n",
              "}\n",
              "\n",
              "/* Toggleable content - dropdown */\n",
              "\n",
              "#sk-container-id-2 div.sk-toggleable__content {\n",
              "  max-height: 0;\n",
              "  max-width: 0;\n",
              "  overflow: hidden;\n",
              "  text-align: left;\n",
              "  /* unfitted */\n",
              "  background-color: var(--sklearn-color-unfitted-level-0);\n",
              "}\n",
              "\n",
              "#sk-container-id-2 div.sk-toggleable__content.fitted {\n",
              "  /* fitted */\n",
              "  background-color: var(--sklearn-color-fitted-level-0);\n",
              "}\n",
              "\n",
              "#sk-container-id-2 div.sk-toggleable__content pre {\n",
              "  margin: 0.2em;\n",
              "  border-radius: 0.25em;\n",
              "  color: var(--sklearn-color-text);\n",
              "  /* unfitted */\n",
              "  background-color: var(--sklearn-color-unfitted-level-0);\n",
              "}\n",
              "\n",
              "#sk-container-id-2 div.sk-toggleable__content.fitted pre {\n",
              "  /* unfitted */\n",
              "  background-color: var(--sklearn-color-fitted-level-0);\n",
              "}\n",
              "\n",
              "#sk-container-id-2 input.sk-toggleable__control:checked~div.sk-toggleable__content {\n",
              "  /* Expand drop-down */\n",
              "  max-height: 200px;\n",
              "  max-width: 100%;\n",
              "  overflow: auto;\n",
              "}\n",
              "\n",
              "#sk-container-id-2 input.sk-toggleable__control:checked~label.sk-toggleable__label-arrow:before {\n",
              "  content: \"▾\";\n",
              "}\n",
              "\n",
              "/* Pipeline/ColumnTransformer-specific style */\n",
              "\n",
              "#sk-container-id-2 div.sk-label input.sk-toggleable__control:checked~label.sk-toggleable__label {\n",
              "  color: var(--sklearn-color-text);\n",
              "  background-color: var(--sklearn-color-unfitted-level-2);\n",
              "}\n",
              "\n",
              "#sk-container-id-2 div.sk-label.fitted input.sk-toggleable__control:checked~label.sk-toggleable__label {\n",
              "  background-color: var(--sklearn-color-fitted-level-2);\n",
              "}\n",
              "\n",
              "/* Estimator-specific style */\n",
              "\n",
              "/* Colorize estimator box */\n",
              "#sk-container-id-2 div.sk-estimator input.sk-toggleable__control:checked~label.sk-toggleable__label {\n",
              "  /* unfitted */\n",
              "  background-color: var(--sklearn-color-unfitted-level-2);\n",
              "}\n",
              "\n",
              "#sk-container-id-2 div.sk-estimator.fitted input.sk-toggleable__control:checked~label.sk-toggleable__label {\n",
              "  /* fitted */\n",
              "  background-color: var(--sklearn-color-fitted-level-2);\n",
              "}\n",
              "\n",
              "#sk-container-id-2 div.sk-label label.sk-toggleable__label,\n",
              "#sk-container-id-2 div.sk-label label {\n",
              "  /* The background is the default theme color */\n",
              "  color: var(--sklearn-color-text-on-default-background);\n",
              "}\n",
              "\n",
              "/* On hover, darken the color of the background */\n",
              "#sk-container-id-2 div.sk-label:hover label.sk-toggleable__label {\n",
              "  color: var(--sklearn-color-text);\n",
              "  background-color: var(--sklearn-color-unfitted-level-2);\n",
              "}\n",
              "\n",
              "/* Label box, darken color on hover, fitted */\n",
              "#sk-container-id-2 div.sk-label.fitted:hover label.sk-toggleable__label.fitted {\n",
              "  color: var(--sklearn-color-text);\n",
              "  background-color: var(--sklearn-color-fitted-level-2);\n",
              "}\n",
              "\n",
              "/* Estimator label */\n",
              "\n",
              "#sk-container-id-2 div.sk-label label {\n",
              "  font-family: monospace;\n",
              "  font-weight: bold;\n",
              "  display: inline-block;\n",
              "  line-height: 1.2em;\n",
              "}\n",
              "\n",
              "#sk-container-id-2 div.sk-label-container {\n",
              "  text-align: center;\n",
              "}\n",
              "\n",
              "/* Estimator-specific */\n",
              "#sk-container-id-2 div.sk-estimator {\n",
              "  font-family: monospace;\n",
              "  border: 1px dotted var(--sklearn-color-border-box);\n",
              "  border-radius: 0.25em;\n",
              "  box-sizing: border-box;\n",
              "  margin-bottom: 0.5em;\n",
              "  /* unfitted */\n",
              "  background-color: var(--sklearn-color-unfitted-level-0);\n",
              "}\n",
              "\n",
              "#sk-container-id-2 div.sk-estimator.fitted {\n",
              "  /* fitted */\n",
              "  background-color: var(--sklearn-color-fitted-level-0);\n",
              "}\n",
              "\n",
              "/* on hover */\n",
              "#sk-container-id-2 div.sk-estimator:hover {\n",
              "  /* unfitted */\n",
              "  background-color: var(--sklearn-color-unfitted-level-2);\n",
              "}\n",
              "\n",
              "#sk-container-id-2 div.sk-estimator.fitted:hover {\n",
              "  /* fitted */\n",
              "  background-color: var(--sklearn-color-fitted-level-2);\n",
              "}\n",
              "\n",
              "/* Specification for estimator info (e.g. \"i\" and \"?\") */\n",
              "\n",
              "/* Common style for \"i\" and \"?\" */\n",
              "\n",
              ".sk-estimator-doc-link,\n",
              "a:link.sk-estimator-doc-link,\n",
              "a:visited.sk-estimator-doc-link {\n",
              "  float: right;\n",
              "  font-size: smaller;\n",
              "  line-height: 1em;\n",
              "  font-family: monospace;\n",
              "  background-color: var(--sklearn-color-background);\n",
              "  border-radius: 1em;\n",
              "  height: 1em;\n",
              "  width: 1em;\n",
              "  text-decoration: none !important;\n",
              "  margin-left: 1ex;\n",
              "  /* unfitted */\n",
              "  border: var(--sklearn-color-unfitted-level-1) 1pt solid;\n",
              "  color: var(--sklearn-color-unfitted-level-1);\n",
              "}\n",
              "\n",
              ".sk-estimator-doc-link.fitted,\n",
              "a:link.sk-estimator-doc-link.fitted,\n",
              "a:visited.sk-estimator-doc-link.fitted {\n",
              "  /* fitted */\n",
              "  border: var(--sklearn-color-fitted-level-1) 1pt solid;\n",
              "  color: var(--sklearn-color-fitted-level-1);\n",
              "}\n",
              "\n",
              "/* On hover */\n",
              "div.sk-estimator:hover .sk-estimator-doc-link:hover,\n",
              ".sk-estimator-doc-link:hover,\n",
              "div.sk-label-container:hover .sk-estimator-doc-link:hover,\n",
              ".sk-estimator-doc-link:hover {\n",
              "  /* unfitted */\n",
              "  background-color: var(--sklearn-color-unfitted-level-3);\n",
              "  color: var(--sklearn-color-background);\n",
              "  text-decoration: none;\n",
              "}\n",
              "\n",
              "div.sk-estimator.fitted:hover .sk-estimator-doc-link.fitted:hover,\n",
              ".sk-estimator-doc-link.fitted:hover,\n",
              "div.sk-label-container:hover .sk-estimator-doc-link.fitted:hover,\n",
              ".sk-estimator-doc-link.fitted:hover {\n",
              "  /* fitted */\n",
              "  background-color: var(--sklearn-color-fitted-level-3);\n",
              "  color: var(--sklearn-color-background);\n",
              "  text-decoration: none;\n",
              "}\n",
              "\n",
              "/* Span, style for the box shown on hovering the info icon */\n",
              ".sk-estimator-doc-link span {\n",
              "  display: none;\n",
              "  z-index: 9999;\n",
              "  position: relative;\n",
              "  font-weight: normal;\n",
              "  right: .2ex;\n",
              "  padding: .5ex;\n",
              "  margin: .5ex;\n",
              "  width: min-content;\n",
              "  min-width: 20ex;\n",
              "  max-width: 50ex;\n",
              "  color: var(--sklearn-color-text);\n",
              "  box-shadow: 2pt 2pt 4pt #999;\n",
              "  /* unfitted */\n",
              "  background: var(--sklearn-color-unfitted-level-0);\n",
              "  border: .5pt solid var(--sklearn-color-unfitted-level-3);\n",
              "}\n",
              "\n",
              ".sk-estimator-doc-link.fitted span {\n",
              "  /* fitted */\n",
              "  background: var(--sklearn-color-fitted-level-0);\n",
              "  border: var(--sklearn-color-fitted-level-3);\n",
              "}\n",
              "\n",
              ".sk-estimator-doc-link:hover span {\n",
              "  display: block;\n",
              "}\n",
              "\n",
              "/* \"?\"-specific style due to the `<a>` HTML tag */\n",
              "\n",
              "#sk-container-id-2 a.estimator_doc_link {\n",
              "  float: right;\n",
              "  font-size: 1rem;\n",
              "  line-height: 1em;\n",
              "  font-family: monospace;\n",
              "  background-color: var(--sklearn-color-background);\n",
              "  border-radius: 1rem;\n",
              "  height: 1rem;\n",
              "  width: 1rem;\n",
              "  text-decoration: none;\n",
              "  /* unfitted */\n",
              "  color: var(--sklearn-color-unfitted-level-1);\n",
              "  border: var(--sklearn-color-unfitted-level-1) 1pt solid;\n",
              "}\n",
              "\n",
              "#sk-container-id-2 a.estimator_doc_link.fitted {\n",
              "  /* fitted */\n",
              "  border: var(--sklearn-color-fitted-level-1) 1pt solid;\n",
              "  color: var(--sklearn-color-fitted-level-1);\n",
              "}\n",
              "\n",
              "/* On hover */\n",
              "#sk-container-id-2 a.estimator_doc_link:hover {\n",
              "  /* unfitted */\n",
              "  background-color: var(--sklearn-color-unfitted-level-3);\n",
              "  color: var(--sklearn-color-background);\n",
              "  text-decoration: none;\n",
              "}\n",
              "\n",
              "#sk-container-id-2 a.estimator_doc_link.fitted:hover {\n",
              "  /* fitted */\n",
              "  background-color: var(--sklearn-color-fitted-level-3);\n",
              "}\n",
              "</style><div id=\"sk-container-id-2\" class=\"sk-top-container\"><div class=\"sk-text-repr-fallback\"><pre>LogisticRegression()</pre><b>In a Jupyter environment, please rerun this cell to show the HTML representation or trust the notebook. <br />On GitHub, the HTML representation is unable to render, please try loading this page with nbviewer.org.</b></div><div class=\"sk-container\" hidden><div class=\"sk-item\"><div class=\"sk-estimator fitted sk-toggleable\"><input class=\"sk-toggleable__control sk-hidden--visually\" id=\"sk-estimator-id-2\" type=\"checkbox\" checked><label for=\"sk-estimator-id-2\" class=\"sk-toggleable__label fitted sk-toggleable__label-arrow fitted\">&nbsp;&nbsp;LogisticRegression<a class=\"sk-estimator-doc-link fitted\" rel=\"noreferrer\" target=\"_blank\" href=\"https://scikit-learn.org/1.4/modules/generated/sklearn.linear_model.LogisticRegression.html\">?<span>Documentation for LogisticRegression</span></a><span class=\"sk-estimator-doc-link fitted\">i<span>Fitted</span></span></label><div class=\"sk-toggleable__content fitted\"><pre>LogisticRegression()</pre></div> </div></div></div></div>"
            ],
            "text/plain": [
              "LogisticRegression()"
            ]
          },
          "execution_count": 34,
          "metadata": {},
          "output_type": "execute_result"
        }
      ],
      "source": [
        "modeloCount = LogisticRegression(max_iter=100, C=1.)\n",
        "modeloCount.fit(DTM, y)"
      ]
    },
    {
      "cell_type": "code",
      "execution_count": 35,
      "metadata": {
        "colab": {
          "base_uri": "https://localhost:8080/"
        },
        "id": "pgy98kalOgS9",
        "outputId": "09b3e677-9385-419b-ddbd-864dc5fc2728"
      },
      "outputs": [
        {
          "name": "stdout",
          "output_type": "stream",
          "text": [
            "\n",
            "Modelo Counter con regresión Logística: Train-accuracy: 100.00%\n"
          ]
        }
      ],
      "source": [
        "print('\\nModelo Counter con regresión Logística: Train-accuracy: %.2f%%' % (100*modeloCount.score(DTM, y)))"
      ]
    },
    {
      "cell_type": "markdown",
      "metadata": {
        "id": "l4-CLJlhOthu"
      },
      "source": [
        "Y de manera análoga con la matriz Tf-idf:"
      ]
    },
    {
      "cell_type": "code",
      "execution_count": 36,
      "metadata": {
        "colab": {
          "base_uri": "https://localhost:8080/"
        },
        "id": "Z5SSwiQPOyQ4",
        "outputId": "700053fb-7bc1-4873-9a71-660ed07e176f"
      },
      "outputs": [
        {
          "name": "stdout",
          "output_type": "stream",
          "text": [
            "\n",
            "Modelo Tfidf con Regresión Logística: Train-accuracy: 100.00%\n"
          ]
        }
      ],
      "source": [
        "modeloTfidf = LogisticRegression(max_iter=100, C=1.)\n",
        "modeloTfidf.fit(DTM_train_tfidf, y)\n",
        "print('\\nModelo Tfidf con Regresión Logística: Train-accuracy: %.2f%%' % (100*modeloTfidf.score(DTM_train_tfidf, y)))"
      ]
    },
    {
      "cell_type": "markdown",
      "metadata": {
        "id": "w8Eqj5nmPTkN"
      },
      "source": [
        "Sobra decir que este modelo esta sobre-entrenado porque solo estamos usando un mismo conjunto para entrenar y validar, pero es solo a manera de ejemplo. Cuando se tenga el conjunto de validación y de prueba deberás hacer la validación de manera adecuada."
      ]
    },
    {
      "cell_type": "markdown",
      "metadata": {
        "id": "2K7B5NYqKIK2"
      },
      "source": [
        "##**Fin de la Parte 2 de los ejercicios complementarios de la Semana 3**"
      ]
    }
  ],
  "metadata": {
    "colab": {
      "provenance": []
    },
    "kernelspec": {
      "display_name": "Python 3",
      "name": "python3"
    },
    "language_info": {
      "codemirror_mode": {
        "name": "ipython",
        "version": 3
      },
      "file_extension": ".py",
      "mimetype": "text/x-python",
      "name": "python",
      "nbconvert_exporter": "python",
      "pygments_lexer": "ipython3",
      "version": "3.12.3"
    }
  },
  "nbformat": 4,
  "nbformat_minor": 0
}
